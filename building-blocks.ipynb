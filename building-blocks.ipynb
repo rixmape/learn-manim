{
 "cells": [
  {
   "attachments": {},
   "cell_type": "markdown",
   "metadata": {},
   "source": [
    "### Setup"
   ]
  },
  {
   "cell_type": "code",
   "execution_count": null,
   "metadata": {},
   "outputs": [],
   "source": [
    "from manim import *\n",
    "\n",
    "config.media_width = \"75%\"\n",
    "config.verbosity = \"WARNING\""
   ]
  },
  {
   "attachments": {},
   "cell_type": "markdown",
   "metadata": {},
   "source": [
    "# Manim's building blocks"
   ]
  },
  {
   "attachments": {},
   "cell_type": "markdown",
   "metadata": {},
   "source": [
    "Manim offers three fundamental classes: `MObject`, `Animation` and `Scene`."
   ]
  },
  {
   "attachments": {},
   "cell_type": "markdown",
   "metadata": {},
   "source": [
    "## Mobjects"
   ]
  },
  {
   "attachments": {},
   "cell_type": "markdown",
   "metadata": {},
   "source": [
    "- Each class derived from `MObject` (mathematical object) represents an object that can be displayed from screen.\n",
    "- Since `Mobject` is an abstract base class, you will most likely create instances of its derived classes."
   ]
  },
  {
   "attachments": {},
   "cell_type": "markdown",
   "metadata": {},
   "source": [
    "### Creating and displaying MObjects"
   ]
  },
  {
   "attachments": {},
   "cell_type": "markdown",
   "metadata": {},
   "source": [
    "- Usually all of the code in a manim script is put inside the `construct()` method of a `Scene` class.\n",
    "- Call the `add()` method of the containing `Scene` to display a mobject on the screen. This does not animate the process.\n",
    "- Remove a mobject on the screen using `remove()` method."
   ]
  },
  {
   "cell_type": "code",
   "execution_count": null,
   "metadata": {},
   "outputs": [],
   "source": [
    "%%manim -qh CreatingMobjects\n",
    "\n",
    "class CreatingMobjects(Scene):\n",
    "    def construct(self):\n",
    "        circle = Circle()\n",
    "        self.add(circle)\n",
    "        self.wait(1)\n",
    "        self.remove(circle)\n",
    "        self.wait(1)"
   ]
  },
  {
   "attachments": {},
   "cell_type": "markdown",
   "metadata": {},
   "source": [
    "### Placing mobjects"
   ]
  },
  {
   "attachments": {},
   "cell_type": "markdown",
   "metadata": {},
   "source": [
    "- By default, mobjects are placed at the center of coordinates, or origin.\n",
    "- Manim places the center of coordinates at the center of the screen.\n",
    "- They are also given default colors.\n",
    "- Move a mobject using `shift()` method."
   ]
  },
  {
   "cell_type": "code",
   "execution_count": null,
   "metadata": {},
   "outputs": [],
   "source": [
    "%%manim -qh Shapes\n",
    "\n",
    "class Shapes(Scene):\n",
    "    def construct(self):\n",
    "        circle = Circle()\n",
    "        square = Square()\n",
    "        triangle = Triangle()\n",
    "\n",
    "        # Move each shape one unit from the origin given a vector\n",
    "        circle.shift(LEFT)\n",
    "        square.shift(UP)\n",
    "        triangle.shift(RIGHT)\n",
    "\n",
    "        self.add(circle, square, triangle)\n",
    "        self.wait(1)"
   ]
  },
  {
   "attachments": {},
   "cell_type": "markdown",
   "metadata": {},
   "source": [
    "- Use `move_to()` to move mobjects using absolute units (measured from the `ORIGIN`).\n",
    "- Use `next_to()` to move mobjects using relative units (measured from the mobject passed as the first argument).\n",
    "- Use `align_to()` to align mobject to another `Mobject` in a certain direction."
   ]
  },
  {
   "cell_type": "code",
   "execution_count": null,
   "metadata": {},
   "outputs": [],
   "source": [
    "%%manim -qh MobjectPlacement\n",
    "\n",
    "class MobjectPlacement(Scene):\n",
    "    def construct(self):\n",
    "        circle = Circle()\n",
    "        square = Square()\n",
    "        triangle = Triangle()\n",
    "\n",
    "        # Place the circle two units left from the origin\n",
    "        circle.move_to(LEFT * 2)\n",
    "        # Place the square to the left of the circle\n",
    "        square.next_to(circle, LEFT)\n",
    "        # Align the left border of the triangle to the left border of the circle\n",
    "        triangle.align_to(circle, LEFT)\n",
    "\n",
    "        self.add(circle, square, triangle)\n",
    "        self.wait(1)"
   ]
  },
  {
   "attachments": {},
   "cell_type": "markdown",
   "metadata": {},
   "source": [
    "- The coordinates of the borders of a mobject are determined using an imaginary bounding box around it.\n",
    "- Use `SurroundingRectangle` to show the boudning box of a mobject."
   ]
  },
  {
   "cell_type": "code",
   "execution_count": null,
   "metadata": {},
   "outputs": [],
   "source": [
    "%%manim -qh BoundingBoxExample\n",
    "\n",
    "class BoundingBoxExample(Scene):\n",
    "    def construct(self):\n",
    "        circle = Circle()\n",
    "        self.add(circle)\n",
    "\n",
    "        # Create a bounding box around the circle\n",
    "        bounding_box = SurroundingRectangle(circle)\n",
    "\n",
    "        # Display the bounding box\n",
    "        self.add(bounding_box)\n",
    "        self.wait(1)"
   ]
  },
  {
   "attachments": {},
   "cell_type": "markdown",
   "metadata": {},
   "source": [
    "### Styling mobjects"
   ]
  },
  {
   "attachments": {},
   "cell_type": "markdown",
   "metadata": {},
   "source": [
    "- Use `set_stroke()` method to change the visual style of a mobject's border.\n",
    "- Use `set_fill()` method to change the visual style of the interior.\n",
    "- By default, most mobjects have a fully transparent interior. Specify the opacity parameter to display the color."
   ]
  },
  {
   "cell_type": "code",
   "execution_count": null,
   "metadata": {},
   "outputs": [],
   "source": [
    "%%manim -qh MobjectStyling\n",
    "\n",
    "class MobjectStyling(Scene):\n",
    "    def construct(self):\n",
    "        circle = Circle().shift(LEFT)\n",
    "        square = Square().shift(UP)\n",
    "        triangle = Triangle().shift(RIGHT)\n",
    "\n",
    "        circle.set_stroke(color=GREEN, width=20)\n",
    "        square.set_fill(YELLOW, opacity=1.0)\n",
    "        triangle.set_fill(PINK, opacity=0.5)\n",
    "\n",
    "        self.add(circle, square, triangle)\n",
    "        self.wait(1)"
   ]
  },
  {
   "attachments": {},
   "cell_type": "markdown",
   "metadata": {},
   "source": [
    "### Mobject on-screen order"
   ]
  },
  {
   "attachments": {},
   "cell_type": "markdown",
   "metadata": {},
   "source": [
    "- The order of the arguments of `add()` determines the order that the mobjects are displayed on the screen, with the left-most arguments being put in the back."
   ]
  },
  {
   "cell_type": "code",
   "execution_count": null,
   "metadata": {},
   "outputs": [],
   "source": [
    "%%manim -qh MobjectZOrder\n",
    "\n",
    "class MobjectZOrder(Scene):\n",
    "    def construct(self):\n",
    "        circle = Circle().shift(LEFT)\n",
    "        square = Square().shift(UP)\n",
    "        triangle = Triangle().shift(RIGHT)\n",
    "\n",
    "        circle.set_stroke(color=GREEN, width=20)\n",
    "        square.set_fill(YELLOW, opacity=1.0)\n",
    "        triangle.set_fill(PINK, opacity=0.5)\n",
    "\n",
    "        # The current scene is same as the previous `MobjectStyling` scene,\n",
    "        # except for the following line. Notice the order of the arguments.\n",
    "        self.add(triangle, square, circle)\n",
    "        \n",
    "        self.wait(1)"
   ]
  },
  {
   "attachments": {},
   "cell_type": "markdown",
   "metadata": {},
   "source": [
    "## Animations"
   ]
  },
  {
   "attachments": {},
   "cell_type": "markdown",
   "metadata": {},
   "source": [
    "- Animations are procedures that interpolate between two mobjects.\n",
    "- In this context, interpolation is inbetweening, or filling in frames between two mobjects. \n",
    "- Add animation to your scene using `play()` method."
   ]
  },
  {
   "cell_type": "code",
   "execution_count": null,
   "metadata": {},
   "outputs": [],
   "source": [
    "%%manim -qh SomeAnimations\n",
    "\n",
    "class SomeAnimations(Scene):\n",
    "    def construct(self):\n",
    "        square = Square()\n",
    "\n",
    "        # Some animations display mobjects\n",
    "        self.play(FadeIn(square))\n",
    "\n",
    "        # Some move or rotate mobjects around\n",
    "        self.play(Rotate(square, PI/4))\n",
    "\n",
    "        # Some animations remove mobjects from the screen\n",
    "        self.play(FadeOut(square))\n",
    "\n",
    "        self.wait(1)"
   ]
  },
  {
   "attachments": {},
   "cell_type": "markdown",
   "metadata": {},
   "source": [
    "### Animating methods"
   ]
  },
  {
   "attachments": {},
   "cell_type": "markdown",
   "metadata": {},
   "source": [
    "- Any property of a mobject that can be changed can be animated.\n",
    "- Prepending `animate()` property to a method that changes a mobject’s property animates that method."
   ]
  },
  {
   "cell_type": "code",
   "execution_count": null,
   "metadata": {},
   "outputs": [],
   "source": [
    "%%manim -qh AnimateExample\n",
    "\n",
    "class AnimateExample(Scene):\n",
    "    def construct(self):\n",
    "        square = Square().set_fill(RED, opacity=1.0)\n",
    "        self.add(square)\n",
    "\n",
    "        # Animate the change of color\n",
    "        self.play(square.animate.set_fill(WHITE))\n",
    "        self.wait(1)\n",
    "\n",
    "        # Animate the change of position and the rotation at the same time\n",
    "        self.play(square.animate.shift(UP).rotate(PI / 3))\n",
    "        self.wait(1)"
   ]
  },
  {
   "attachments": {},
   "cell_type": "markdown",
   "metadata": {},
   "source": [
    "### Animation run time"
   ]
  },
  {
   "attachments": {},
   "cell_type": "markdown",
   "metadata": {},
   "source": [
    "- By default, any animation passed to `play()` lasts for exactly one second. \n",
    "- Use the `run_time` argument to control the duration."
   ]
  },
  {
   "cell_type": "code",
   "execution_count": null,
   "metadata": {},
   "outputs": [],
   "source": [
    "%%manim -qh RunTime\n",
    "\n",
    "class RunTime(Scene):\n",
    "    def construct(self):\n",
    "        square = Square()\n",
    "        self.add(square)\n",
    "        self.play(square.animate.shift(UP), run_time=3)\n",
    "        self.wait(1)"
   ]
  },
  {
   "attachments": {},
   "cell_type": "markdown",
   "metadata": {},
   "source": [
    "### Creating custom animation"
   ]
  },
  {
   "attachments": {},
   "cell_type": "markdown",
   "metadata": {},
   "source": [
    "- Manim provides built-in animations, but there are times when custom animations are needed.\n",
    "- To create custom animations, extend the `Animation` class and override the `interpolate_mobject()` method.\n",
    "- The `interpolate_mobject()` method receives an `alpha` parameter that ranges from 0 to 1 throughout the animation.\n",
    "- Manipulate `self.mobject` inside `interpolate_mobject()` based on the `alpha` value to achieve the desired animation effect.\n",
    "- Custom animations benefit from features such as different run times and rate functions."
   ]
  },
  {
   "attachments": {},
   "cell_type": "markdown",
   "metadata": {},
   "source": [
    "#### Example: Counting animation\n",
    "\n",
    "For transforming a number smoothly, creating a custom animation is intuitive.\n",
    "- Create a `Count` class that extends `Animation`, taking a `DecimalNumber` mobject, `start`, and `end` as arguments.\n",
    "- Pass the `DecimalNumber` mobject to the super constructor and set the `start` and `end` values in the `Count` constructor.\n",
    "- In the `interpolate_mobject()` method, determine the number to display at each step based on the alpha value. Use the logic: `starting_number + alpha * (target_number - starting_number)`.\n",
    "- Use the `set_value()` method of the `DecimalNumber` mobject to update its displayed number.\n",
    "- Once the `Count` animation is defined, it can be played in a `Scene` class with different durations and rate functions."
   ]
  },
  {
   "cell_type": "code",
   "execution_count": null,
   "metadata": {},
   "outputs": [],
   "source": [
    "%%manim -qh CountingScene\n",
    "\n",
    "class Count(Animation):\n",
    "    def __init__(\n",
    "        self, number: DecimalNumber, start: float, end: float, **kwargs\n",
    "    ) -> None:\n",
    "        # Pass number as the mobject of the animation\n",
    "        super().__init__(number, **kwargs)\n",
    "        # Set start and end\n",
    "        self.start = start\n",
    "        self.end = end\n",
    "\n",
    "    def interpolate_mobject(self, alpha: float) -> None:\n",
    "        # Set value of DecimalNumber according to alpha\n",
    "        value = self.start + (alpha * (self.end - self.start))\n",
    "        # `self.mobject` refers to the `DecimalNumber` object being animated\n",
    "        self.mobject.set_value(value)\n",
    "\n",
    "\n",
    "class CountingScene(Scene):\n",
    "    def construct(self):\n",
    "        # Create Decimal Number and add it to scene\n",
    "        number = DecimalNumber().set_color(WHITE).scale(5)\n",
    "        # Add an updater to keep the DecimalNumber centered as its value changes\n",
    "        number.add_updater(lambda number: number.move_to(ORIGIN))\n",
    "\n",
    "        self.add(number)\n",
    "\n",
    "        self.wait()\n",
    "\n",
    "        # Play the Count Animation to count from 0 to 100 in 4 seconds\n",
    "        self.play(Count(number, 0, 100), run_time=4, rate_func=linear)\n",
    "\n",
    "        self.wait()"
   ]
  },
  {
   "attachments": {},
   "cell_type": "markdown",
   "metadata": {},
   "source": [
    "### Using coordinates of a mobject"
   ]
  },
  {
   "attachments": {},
   "cell_type": "markdown",
   "metadata": {},
   "source": [
    "- Mobjects contain points that define their boundaries. \n",
    "- These points can be used to add other mobjects respectively to each other."
   ]
  },
  {
   "cell_type": "code",
   "execution_count": null,
   "metadata": {},
   "outputs": [],
   "source": [
    "%%manim -qh MobjectExample\n",
    "\n",
    "class MobjectExample(Scene):\n",
    "    def construct(self):\n",
    "        p1= [-1,-1,0]\n",
    "        p2= [1,-1,0]\n",
    "        p3= [1,1,0]\n",
    "        p4= [-1,1,0]\n",
    "        a = Line(p1,p2).append_points(Line(p2,p3).points).append_points(Line(p3,p4).points)\n",
    "        point_start= a.get_start()\n",
    "        point_end  = a.get_end()\n",
    "        point_center = a.get_center()\n",
    "        self.add(Text(f\"a.get_start() = {np.round(point_start,2).tolist()}\", font_size=24).to_edge(UR).set_color(YELLOW))\n",
    "        self.add(Text(f\"a.get_end() = {np.round(point_end,2).tolist()}\", font_size=24).next_to(self.mobjects[-1],DOWN).set_color(RED))\n",
    "        self.add(Text(f\"a.get_center() = {np.round(point_center,2).tolist()}\", font_size=24).next_to(self.mobjects[-1],DOWN).set_color(BLUE))\n",
    "\n",
    "        self.add(Dot(a.get_start()).set_color(YELLOW).scale(2))\n",
    "        self.add(Dot(a.get_end()).set_color(RED).scale(2))\n",
    "        self.add(Dot(a.get_top()).set_color(GREEN_A).scale(2))\n",
    "        self.add(Dot(a.get_bottom()).set_color(GREEN_D).scale(2))\n",
    "        self.add(Dot(a.get_center()).set_color(BLUE).scale(2))\n",
    "        self.add(Dot(a.point_from_proportion(0.5)).set_color(ORANGE).scale(2))\n",
    "        self.add(*[Dot(x) for x in a.points])\n",
    "        self.add(a)"
   ]
  },
  {
   "attachments": {},
   "cell_type": "markdown",
   "metadata": {},
   "source": [
    "### Transforming mobjects into other mobjects"
   ]
  },
  {
   "cell_type": "code",
   "execution_count": null,
   "metadata": {},
   "outputs": [],
   "source": [
    "%%manim -qh ExampleTransform\n",
    "\n",
    "class ExampleTransform(Scene):\n",
    "    def construct(self):\n",
    "        self.camera.background_color = WHITE\n",
    "        m1 = Square().set_color(RED)\n",
    "        m2 = Rectangle().set_color(RED).rotate(0.2)\n",
    "        self.play(Transform(m1,m2))"
   ]
  },
  {
   "cell_type": "code",
   "execution_count": null,
   "metadata": {},
   "outputs": [],
   "source": [
    "%%manim -qh ExampleRotation\n",
    "\n",
    "class ExampleRotation(Scene):\n",
    "    def construct(self):\n",
    "        self.camera.background_color = WHITE\n",
    "        m1a = Square().set_color(RED).shift(LEFT)\n",
    "        m1b = Circle().set_color(RED).shift(LEFT)\n",
    "        m2a= Square().set_color(BLUE).shift(RIGHT)\n",
    "        m2b= Circle().set_color(BLUE).shift(RIGHT)\n",
    "\n",
    "        points = m2a.points\n",
    "        points = np.roll(points, int(len(points)/4), axis=0)\n",
    "        m2a.points = points\n",
    "\n",
    "        self.play(Transform(m1a,m1b),Transform(m2a,m2b), run_time=1)"
   ]
  },
  {
   "attachments": {},
   "cell_type": "markdown",
   "metadata": {},
   "source": [
    "## Scenes"
   ]
  },
  {
   "attachments": {},
   "cell_type": "markdown",
   "metadata": {},
   "source": [
    "- The `Scene` class is crucial in manim as it serves as the core component that connects various elements.\n",
    "- Mobjects need to be added to a scene to be displayed and removed from it to stop being displayed.\n",
    "- Animations must be played by a scene, and intervals without animations are determined using the `wait()` function.\n",
    "- All the code for a video should be placed within the `construct()` method of a class derived from `Scene`.\n",
    "- It is possible to have multiple `Scene` subclasses within a single file if multiple scenes need to be rendered simultaneously."
   ]
  }
 ],
 "metadata": {
  "kernelspec": {
   "display_name": ".venv",
   "language": "python",
   "name": "python3"
  },
  "language_info": {
   "codemirror_mode": {
    "name": "ipython",
    "version": 3
   },
   "file_extension": ".py",
   "mimetype": "text/x-python",
   "name": "python",
   "nbconvert_exporter": "python",
   "pygments_lexer": "ipython3",
   "version": "3.11.4"
  },
  "orig_nbformat": 4
 },
 "nbformat": 4,
 "nbformat_minor": 2
}
